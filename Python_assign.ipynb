{
  "nbformat": 4,
  "nbformat_minor": 0,
  "metadata": {
    "colab": {
      "provenance": [],
      "collapsed_sections": [
        "kG5rTqYScxgU",
        "-E3JV6j4dvGA",
        "nAYJp3fxek9B",
        "iKvl17Kefksi",
        "Ulk6ZhHshex3",
        "YXdWAad-i3tU",
        "slxhBaxAjayG",
        "CTYuYibHlwus",
        "4fSHPrcTmQ_8",
        "ofJzGIW6m5Gr",
        "9oB3ld7Cn6mI",
        "FLyuFd_hot0U",
        "6jEQsUVOpk_x",
        "wAORKWJjqPBB",
        "xbv6ghdNrGCl",
        "9f9aHuEOr4m_",
        "iuLGb_UetJDM",
        "8xhUcFyhtuQG",
        "CBeLLxSBuPcg",
        "YWC8X0R8vbbL"
      ]
    },
    "kernelspec": {
      "name": "python3",
      "display_name": "Python 3"
    },
    "language_info": {
      "name": "python"
    }
  },
  "cells": [
    {
      "cell_type": "code",
      "execution_count": null,
      "metadata": {
        "colab": {
          "base_uri": "https://localhost:8080/"
        },
        "id": "b4vSzFSNXs7A",
        "outputId": "6eefaf89-28b8-41c3-edc4-6ff0b434b818"
      },
      "outputs": [
        {
          "output_type": "stream",
          "name": "stdout",
          "text": [
            "hello\n"
          ]
        }
      ],
      "source": [
        "print(\"hello\")"
      ]
    },
    {
      "cell_type": "markdown",
      "source": [
        "# ***ASSIGNMENT 1***"
      ],
      "metadata": {
        "id": "sryeg4T2cke0"
      }
    },
    {
      "cell_type": "markdown",
      "source": [
        "# 1. Write a Python program which accepts the radius of a circle from the user and compute the area"
      ],
      "metadata": {
        "id": "kG5rTqYScxgU"
      }
    },
    {
      "cell_type": "code",
      "source": [
        "import math\n",
        "\n",
        "radius = float(input(\"Enter the radius of the circle: \"))\n",
        "area = math.pi * radius ** 2\n",
        "print(f\" Area of the circle is: {area}\")"
      ],
      "metadata": {
        "colab": {
          "base_uri": "https://localhost:8080/"
        },
        "id": "k4o2HLi9c7r_",
        "outputId": "c1c4d6ee-55e1-4c62-fecd-3935a1e0d90d"
      },
      "execution_count": null,
      "outputs": [
        {
          "output_type": "stream",
          "name": "stdout",
          "text": [
            "Enter the radius of the circle: 3\n",
            " Area of the circle is: 28.274333882308138\n"
          ]
        }
      ]
    },
    {
      "cell_type": "markdown",
      "source": [
        "# 2. Write a Python Program to accept the details of a student like name, roll number and mark and display it."
      ],
      "metadata": {
        "id": "-E3JV6j4dvGA"
      }
    },
    {
      "cell_type": "code",
      "source": [
        "name = input(\"Enter student name: \")\n",
        "roll_number = input(\"Enter student roll number: \")\n",
        "marks = float(input(\"Enter student marks: \"))\n",
        "print(f\"Name: {name}\")\n",
        "print(f\"Roll Number: {roll_number}\")\n",
        "print(f\"Marks: {marks}\")\n"
      ],
      "metadata": {
        "colab": {
          "base_uri": "https://localhost:8080/"
        },
        "id": "n7YfqIFGd_uT",
        "outputId": "bf5e6317-6f5f-445a-ff29-4d301be5b675"
      },
      "execution_count": null,
      "outputs": [
        {
          "output_type": "stream",
          "name": "stdout",
          "text": [
            "Enter student name: Anisha\n",
            "Enter student roll number: 21\n",
            "Enter student marks: 78\n",
            "Name: Anisha\n",
            "Roll Number: 21\n",
            "Marks: 78.0\n"
          ]
        }
      ]
    },
    {
      "cell_type": "markdown",
      "source": [
        "# 3. Write a Python program to get the largest number from a list."
      ],
      "metadata": {
        "id": "nAYJp3fxek9B"
      }
    },
    {
      "cell_type": "code",
      "source": [
        "\n",
        "list = [12, 3,47,10]\n",
        "largest = list[0]\n",
        "for i in list:\n",
        "    if i > largest:\n",
        "        largest = i\n",
        "print(f\"{largest} is the largest number\")\n"
      ],
      "metadata": {
        "colab": {
          "base_uri": "https://localhost:8080/"
        },
        "id": "HNqkKTzNeX9A",
        "outputId": "52740e3a-213f-43f1-893f-d6c97102ab42"
      },
      "execution_count": null,
      "outputs": [
        {
          "output_type": "stream",
          "name": "stdout",
          "text": [
            "47 is the largest number\n"
          ]
        }
      ]
    },
    {
      "cell_type": "markdown",
      "source": [
        "# 4.Given a range of first 10 numbers, write a Python program to iterate from start number to the end number and print the sum of the current number and previous number."
      ],
      "metadata": {
        "id": "iKvl17Kefksi"
      }
    },
    {
      "cell_type": "code",
      "source": [
        "\n",
        "start = 1\n",
        "end = 10\n",
        "previous = start\n",
        "for current in range(start, end + 1):\n",
        "    total = current + previous\n",
        "    output = \"Current number: \" + str(current) + \", Previous number: \" + str(previous) + \", Sum: \" + str(total)\n",
        "    print(output)\n",
        "    previous = current\n"
      ],
      "metadata": {
        "colab": {
          "base_uri": "https://localhost:8080/"
        },
        "id": "zuJfRgoafhkd",
        "outputId": "055881d6-a256-412e-d2ad-bd3cc3e209ba"
      },
      "execution_count": null,
      "outputs": [
        {
          "output_type": "stream",
          "name": "stdout",
          "text": [
            "Current number: 1, Previous number: 1, Sum: 2\n",
            "Current number: 2, Previous number: 1, Sum: 3\n",
            "Current number: 3, Previous number: 2, Sum: 5\n",
            "Current number: 4, Previous number: 3, Sum: 7\n",
            "Current number: 5, Previous number: 4, Sum: 9\n",
            "Current number: 6, Previous number: 5, Sum: 11\n",
            "Current number: 7, Previous number: 6, Sum: 13\n",
            "Current number: 8, Previous number: 7, Sum: 15\n",
            "Current number: 9, Previous number: 8, Sum: 17\n",
            "Current number: 10, Previous number: 9, Sum: 19\n"
          ]
        }
      ]
    },
    {
      "cell_type": "markdown",
      "source": [
        "# 5. Write a Python program to print only those numbers which are divisible of 5.\n"
      ],
      "metadata": {
        "id": "Ulk6ZhHshex3"
      }
    },
    {
      "cell_type": "code",
      "source": [
        "numbers = [10, 20, 33, 46, 55]\n",
        "divby5 = []\n",
        "for num in numbers:\n",
        "    if num % 5 == 0:\n",
        "        divby5.append(num)\n",
        "print(\"Numbers divisible by 5: \")\n",
        "for num in divby5:\n",
        "    print(num,\"\")\n",
        "\n"
      ],
      "metadata": {
        "colab": {
          "base_uri": "https://localhost:8080/"
        },
        "id": "Nd9UzQengzFy",
        "outputId": "f7246079-25b3-466e-a0bb-405ab96da8f5"
      },
      "execution_count": null,
      "outputs": [
        {
          "output_type": "stream",
          "name": "stdout",
          "text": [
            "Numbers divisible by 5: \n",
            "10 \n",
            "20 \n",
            "55 \n"
          ]
        }
      ]
    },
    {
      "cell_type": "markdown",
      "source": [
        "# 6. Write a Python program to check whether a number is prime or not."
      ],
      "metadata": {
        "id": "YXdWAad-i3tU"
      }
    },
    {
      "cell_type": "code",
      "source": [
        "number = int(input(\"Enter a number: \"))\n",
        "if number > 1:\n",
        "\n",
        "    for i in range(2, number):\n",
        "        if (number % i) == 0:\n",
        "            print(f\"{number} is not a prime number.\")\n",
        "            break\n",
        "    else:\n",
        "        print(f\"{number} is a prime number.\")\n",
        "else:\n",
        "    print(f\"{number} is not a prime number.\")\n"
      ],
      "metadata": {
        "colab": {
          "base_uri": "https://localhost:8080/"
        },
        "id": "L1aYpM2IiugM",
        "outputId": "04baf431-c630-4d36-efca-e508a465b76f"
      },
      "execution_count": null,
      "outputs": [
        {
          "output_type": "stream",
          "name": "stdout",
          "text": [
            "Enter a number: 5\n",
            "5 is a prime number.\n"
          ]
        }
      ]
    },
    {
      "cell_type": "markdown",
      "source": [
        "# 7. Write a Python program to reverse a list using for loop."
      ],
      "metadata": {
        "id": "slxhBaxAjayG"
      }
    },
    {
      "cell_type": "code",
      "source": [
        "original_list = [1, 2, 3, 4, 5]\n",
        "reversed_list = []\n",
        "\n",
        "for i in range(len(original_list) - 1, -1, -1):\n",
        "    reversed_list.append(original_list[i])\n",
        "\n",
        "print(\"Original list:\", original_list)\n",
        "print(\"Reversed list:\", reversed_list)\n"
      ],
      "metadata": {
        "colab": {
          "base_uri": "https://localhost:8080/"
        },
        "id": "GIpThGZlkg89",
        "outputId": "ca543a87-b1a3-4933-b6d3-9b240fe7cc01"
      },
      "execution_count": null,
      "outputs": [
        {
          "output_type": "stream",
          "name": "stdout",
          "text": [
            "Original list: [1, 2, 3, 4, 5]\n",
            "Reversed list: [5, 4, 3, 2, 1]\n"
          ]
        }
      ]
    },
    {
      "cell_type": "markdown",
      "source": [
        "# 8. Write a Python program to print the following pattern.\n",
        "*\n",
        "**\n",
        "***\n",
        "****"
      ],
      "metadata": {
        "id": "CTYuYibHlwus"
      }
    },
    {
      "cell_type": "code",
      "source": [
        "rows = 4\n",
        "\n",
        "for i in range(1, rows + 1):\n",
        "    for j in range(i):\n",
        "        print('*', end='')\n",
        "    print()\n"
      ],
      "metadata": {
        "colab": {
          "base_uri": "https://localhost:8080/"
        },
        "id": "-ARv80jkljCK",
        "outputId": "18aa2ab2-cf32-4575-8372-b10d07718739"
      },
      "execution_count": null,
      "outputs": [
        {
          "output_type": "stream",
          "name": "stdout",
          "text": [
            "*\n",
            "**\n",
            "***\n",
            "****\n"
          ]
        }
      ]
    },
    {
      "cell_type": "markdown",
      "source": [
        "# 9. Write a Python program to find the maximum of three numbers"
      ],
      "metadata": {
        "id": "4fSHPrcTmQ_8"
      }
    },
    {
      "cell_type": "code",
      "source": [
        "num1 = float(input(\"Enter first number: \"))\n",
        "num2 = float(input(\"Enter second number: \"))\n",
        "num3 = float(input(\"Enter third number: \"))\n",
        "max_num = max(num1, num2, num3)\n",
        "print(f\"The maximum of {num1}, {num2}, and {num3} is: {max_num}\")\n"
      ],
      "metadata": {
        "colab": {
          "base_uri": "https://localhost:8080/"
        },
        "id": "oC6DFVYImDKW",
        "outputId": "d09f78e3-8929-4e65-8789-4b00af0925f0"
      },
      "execution_count": null,
      "outputs": [
        {
          "output_type": "stream",
          "name": "stdout",
          "text": [
            "Enter first number: 4\n",
            "Enter second number: 7\n",
            "Enter third number: 5\n",
            "The maximum of 4.0, 7.0, and 5.0 is: 7.0\n"
          ]
        }
      ]
    },
    {
      "cell_type": "markdown",
      "source": [
        "# 10. Write a Python program to construct the following pattern, using a nested for loop.\n",
        "*\n",
        "**\n",
        "***\n",
        "****\n",
        "*****\n",
        "****\n",
        "***\n",
        "**\n",
        "*"
      ],
      "metadata": {
        "id": "ofJzGIW6m5Gr"
      }
    },
    {
      "cell_type": "code",
      "source": [
        "rows = 5\n",
        "for i in range(rows):\n",
        "    for j in range(i + 1):\n",
        "        print('*', end='')\n",
        "    print()\n",
        "\n",
        "for i in range(rows - 1):\n",
        "    for j in range(rows - 1 - i):\n",
        "        print('*', end='')\n",
        "    print()\n"
      ],
      "metadata": {
        "colab": {
          "base_uri": "https://localhost:8080/"
        },
        "id": "qXlFe8kdmpJc",
        "outputId": "914b497c-26f3-4527-b679-7e195cb8948f"
      },
      "execution_count": null,
      "outputs": [
        {
          "output_type": "stream",
          "name": "stdout",
          "text": [
            "*\n",
            "**\n",
            "***\n",
            "****\n",
            "*****\n",
            "****\n",
            "***\n",
            "**\n",
            "*\n"
          ]
        }
      ]
    },
    {
      "cell_type": "markdown",
      "source": [
        "# ***ASSIGNMENT 2***"
      ],
      "metadata": {
        "id": "aiY58dkonWKQ"
      }
    },
    {
      "cell_type": "markdown",
      "source": [
        "# 1. Write a Python program to accept a string value from the user and display the count of each character in that string."
      ],
      "metadata": {
        "id": "9oB3ld7Cn6mI"
      }
    },
    {
      "cell_type": "code",
      "source": [
        "input_string = input(\"Enter a string value: \")\n",
        "for char in input_string:\n",
        "    count = input_string.count(char)\n",
        "    print(char + '=' + str(count) + ', ', end='')\n",
        "\n"
      ],
      "metadata": {
        "colab": {
          "base_uri": "https://localhost:8080/"
        },
        "id": "OAXOIlCunRzl",
        "outputId": "890760ac-cee7-4a1e-beaf-5de4660e1b5c"
      },
      "execution_count": null,
      "outputs": [
        {
          "output_type": "stream",
          "name": "stdout",
          "text": [
            "Enter a string value: assembly\n",
            "a=1, s=2, s=2, e=1, m=1, b=1, l=1, y=1, "
          ]
        }
      ]
    },
    {
      "cell_type": "markdown",
      "source": [
        "# 2. . Write a Python function to find the maximum of three numbers"
      ],
      "metadata": {
        "id": "FLyuFd_hot0U"
      }
    },
    {
      "cell_type": "code",
      "source": [
        "def find_max(num1, num2, num3):\n",
        "    max_num = num1\n",
        "    if num2 > max_num:\n",
        "        max_num = num2\n",
        "\n",
        "    if num3 > max_num:\n",
        "        max_num = num3\n",
        "\n",
        "    return max_num\n",
        "\n",
        "num1 = int(input(\"Enter the first number: \"))\n",
        "num2 = int(input(\"Enter the second number: \"))\n",
        "num3 = int(input(\"Enter the third number: \"))\n",
        "result = find_max(num1, num2, num3)\n",
        "print(\"The maximum of the three numbers is:\", result)\n"
      ],
      "metadata": {
        "colab": {
          "base_uri": "https://localhost:8080/"
        },
        "id": "410AHGAhoW68",
        "outputId": "b9002d68-e189-4f93-c1ab-64a132ac803a"
      },
      "execution_count": null,
      "outputs": [
        {
          "output_type": "stream",
          "name": "stdout",
          "text": [
            "Enter the first number: 4\n",
            "Enter the second number: 7\n",
            "Enter the third number: 6\n",
            "The maximum of the three numbers is: 7\n"
          ]
        }
      ]
    },
    {
      "cell_type": "markdown",
      "source": [
        "# 3. Write a Python function called exponent(base,exp) that returns an integer value of base raises to the power of exp."
      ],
      "metadata": {
        "id": "6jEQsUVOpk_x"
      }
    },
    {
      "cell_type": "code",
      "source": [
        "def exponent(base, exp):\n",
        "    result = 1\n",
        "    for i in range(exp):\n",
        "        result *= base\n",
        "    return result\n",
        "base = int(input(\"Enter the base: \"))\n",
        "exp = int(input(\"Enter the exponent: \"))\n",
        "result = exponent(base, exp)\n",
        "print(\"output:\", result)\n"
      ],
      "metadata": {
        "colab": {
          "base_uri": "https://localhost:8080/"
        },
        "id": "9bQZ7Gsipg98",
        "outputId": "824e7fd7-016a-4f6e-ac9c-9bc817a7f99f"
      },
      "execution_count": null,
      "outputs": [
        {
          "output_type": "stream",
          "name": "stdout",
          "text": [
            "Enter the base: 2\n",
            "Enter the exponent: 3\n",
            "output: 8\n"
          ]
        }
      ]
    },
    {
      "cell_type": "markdown",
      "source": [
        "# 4. Write a Python function that takes a positive integer and returns the sum of the cube of all the positive integers smaller than the specified number.\n"
      ],
      "metadata": {
        "id": "wAORKWJjqPBB"
      }
    },
    {
      "cell_type": "code",
      "source": [
        "def sum_of_cubes(n):\n",
        "    sum_cubes = 0\n",
        "    for i in range(1, n):\n",
        "        sum_cubes += i ** 3\n",
        "    return sum_cubes\n",
        "n = int(input(\"Enter a positive integer: \"))\n",
        "result = sum_of_cubes(n)\n",
        "print(\"output:\", result)\n"
      ],
      "metadata": {
        "colab": {
          "base_uri": "https://localhost:8080/"
        },
        "id": "_wKWS4YxqHRu",
        "outputId": "d3c0c8e2-0d66-43e1-d8c4-f5bf4ed0482d"
      },
      "execution_count": null,
      "outputs": [
        {
          "output_type": "stream",
          "name": "stdout",
          "text": [
            "Enter a positive integer: 4\n",
            "output: 36\n"
          ]
        }
      ]
    },
    {
      "cell_type": "markdown",
      "source": [
        "# 5. Write a Python program which iterates from 1 to 10. For multiples of 2, print “Fizz” instead of the number and for the multiples of 5, print “Buzz”. For numbers which are multiples of both 2 and 5, print “FizzBuzz”."
      ],
      "metadata": {
        "id": "xbv6ghdNrGCl"
      }
    },
    {
      "cell_type": "code",
      "source": [
        "for num in range(1, 11):\n",
        "    if num % 2 == 0 and num % 5 == 0:\n",
        "        print(\"FizzBuzz\")\n",
        "    elif num % 2 == 0:\n",
        "        print(\"Fizz\")\n",
        "    elif num % 5 == 0:\n",
        "        print(\"Buzz\")\n",
        "    else:\n",
        "        print(num)\n"
      ],
      "metadata": {
        "colab": {
          "base_uri": "https://localhost:8080/"
        },
        "id": "HPuWhFg9rBlN",
        "outputId": "ac71631c-5b9b-4819-de71-0cb3629791d2"
      },
      "execution_count": null,
      "outputs": [
        {
          "output_type": "stream",
          "name": "stdout",
          "text": [
            "1\n",
            "Fizz\n",
            "3\n",
            "Fizz\n",
            "Buzz\n",
            "Fizz\n",
            "7\n",
            "Fizz\n",
            "9\n",
            "FizzBuzz\n"
          ]
        }
      ]
    },
    {
      "cell_type": "markdown",
      "source": [
        "# 6. Write a Python program to find the most frequent item in a list of numbers."
      ],
      "metadata": {
        "id": "9f9aHuEOr4m_"
      }
    },
    {
      "cell_type": "code",
      "source": [
        "numbers = [2, 3, 4, 2, 5, 2]\n",
        "max_count = 0\n",
        "most_freq_item = 0\n",
        "for item in numbers:\n",
        "    count = numbers.count(item)\n",
        "\n",
        "    if count > max_count:\n",
        "        max_count = count\n",
        "        most_freq_item = item\n",
        "print(\"output:\", most_freq_item)\n"
      ],
      "metadata": {
        "colab": {
          "base_uri": "https://localhost:8080/"
        },
        "id": "BNqXwVUOrzmx",
        "outputId": "68ad7522-db45-4349-c91a-6e995613b743"
      },
      "execution_count": null,
      "outputs": [
        {
          "output_type": "stream",
          "name": "stdout",
          "text": [
            "output: 2\n"
          ]
        }
      ]
    },
    {
      "cell_type": "markdown",
      "source": [
        "#7. Write a Python program to find the sum of squares of the numbers in a list."
      ],
      "metadata": {
        "id": "iuLGb_UetJDM"
      }
    },
    {
      "cell_type": "code",
      "source": [
        "numbers = [2,1,3,1]\n",
        "sosq = 0\n",
        "for num in numbers:\n",
        "    square = num ** 2\n",
        "    sosq += square\n",
        "print(\"Sum of squares:\", sosq)\n"
      ],
      "metadata": {
        "colab": {
          "base_uri": "https://localhost:8080/"
        },
        "id": "6d1z4zWms24T",
        "outputId": "3a260966-41be-4091-c8e0-5e1f3a88084c"
      },
      "execution_count": null,
      "outputs": [
        {
          "output_type": "stream",
          "name": "stdout",
          "text": [
            "Sum of squares: 15\n"
          ]
        }
      ]
    },
    {
      "cell_type": "markdown",
      "source": [
        "# 8. Write a Python program using for loop that will iterate from 1 to 15. For each iteration, check if the current number is odd or even, and display the message to the screen as odd or even."
      ],
      "metadata": {
        "id": "8xhUcFyhtuQG"
      }
    },
    {
      "cell_type": "code",
      "source": [
        "for num in range(1, 16):\n",
        "    if num % 2 == 0:\n",
        "        print(str(num) + \" is even\")\n",
        "    else:\n",
        "        print(str(num) + \" is odd\")\n",
        "\n"
      ],
      "metadata": {
        "colab": {
          "base_uri": "https://localhost:8080/"
        },
        "id": "0_o4-2omtkYl",
        "outputId": "0af88030-f3ef-46d2-aca4-13e70a9e6821"
      },
      "execution_count": null,
      "outputs": [
        {
          "output_type": "stream",
          "name": "stdout",
          "text": [
            "1 is odd\n",
            "2 is even\n",
            "3 is odd\n",
            "4 is even\n",
            "5 is odd\n",
            "6 is even\n",
            "7 is odd\n",
            "8 is even\n",
            "9 is odd\n",
            "10 is even\n",
            "11 is odd\n",
            "12 is even\n",
            "13 is odd\n",
            "14 is even\n",
            "15 is odd\n"
          ]
        }
      ]
    },
    {
      "cell_type": "markdown",
      "source": [
        "# 9. Write a Python program to convert temperatures to and from Celsius Fahrenheit. [Formula: c/5=f-32/9 where c=temperature in Celsius and f= temperature in Fahrenheit.]"
      ],
      "metadata": {
        "id": "CBeLLxSBuPcg"
      }
    },
    {
      "cell_type": "code",
      "source": [
        "def celsius_to_fahrenheit(celsius):\n",
        "    fahrenheit = (celsius * 9/5) + 32\n",
        "    return fahrenheit\n",
        "\n",
        "def fahrenheit_to_celsius(fahrenheit):\n",
        "    celsius = (fahrenheit - 32) * 5/9\n",
        "    return celsius\n",
        "\n",
        "fahrenheit_temp = 41\n",
        "celsius_temp = fahrenheit_to_celsius(fahrenheit_temp)\n",
        "print(str(fahrenheit_temp) + \" degrees Fahrenheit is equal to \" + str(round(celsius_temp, 2)) + \" degrees Celsius\")\n"
      ],
      "metadata": {
        "colab": {
          "base_uri": "https://localhost:8080/"
        },
        "id": "45EPAWTVuEPw",
        "outputId": "78b39ff3-24ca-4ee4-e128-4c23ad535c3e"
      },
      "execution_count": null,
      "outputs": [
        {
          "output_type": "stream",
          "name": "stdout",
          "text": [
            "41 degrees Fahrenheit is equal to 5.0 degrees Celsius\n"
          ]
        }
      ]
    },
    {
      "cell_type": "markdown",
      "source": [
        "# 10. Write a Python function to calculate the factorial of a number (a nonnegative integer). The function accepts the number as an argument."
      ],
      "metadata": {
        "id": "YWC8X0R8vbbL"
      }
    },
    {
      "cell_type": "code",
      "source": [
        "number = int(input(\"Enter a non-negative integer: \"))\n",
        "result = 1\n",
        "for i in range(1, number + 1):\n",
        "    result = result * i\n",
        "print(\"The factorial of\", number, \"is:\", result)\n"
      ],
      "metadata": {
        "colab": {
          "base_uri": "https://localhost:8080/"
        },
        "id": "_ZGJvOO8vEDL",
        "outputId": "318257bd-6962-4230-c395-2831405678c1"
      },
      "execution_count": null,
      "outputs": [
        {
          "output_type": "stream",
          "name": "stdout",
          "text": [
            "Enter a non-negative integer: 5\n",
            "The factorial of 5 is: 120\n"
          ]
        }
      ]
    },
    {
      "cell_type": "code",
      "source": [],
      "metadata": {
        "id": "18kBTcgFwTur"
      },
      "execution_count": null,
      "outputs": []
    }
  ]
}